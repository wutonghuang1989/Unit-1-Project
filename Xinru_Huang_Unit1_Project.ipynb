{
 "cells": [
  {
   "cell_type": "markdown",
   "metadata": {},
   "source": [
    "<img src=\"http://imgur.com/1ZcRyrc.png\" style=\"float: left; margin: 20px; height: 55px\">\n",
    "\n",
    "# Project 1: Python Coding Exercises\n",
    "\n",
    "_Authors:  Joseph Nelson (DC)_\n",
    "\n",
    "---"
   ]
  },
  {
   "cell_type": "markdown",
   "metadata": {},
   "source": [
    "The following code challenges are drawn from common exercises used in technical interviews. This project is more about turning ideas into Python code than it is about developing algorithms, so we have provided \"pseudocode\" for the more challenging problems."
   ]
  },
  {
   "cell_type": "markdown",
   "metadata": {},
   "source": [
    "### Challenge 1: Largest Palindrome\n",
    "A palindromic number reads the same both ways. For example, 1234321 is a palindrome. The largest palindrome made from the product of two two-digit numbers is 9009 = 91 × 99. Find the largest palindrome made from the product of two three-digit numbers.\n",
    "\n",
    "Suggested algorithm:\n",
    "\n",
    "```\n",
    "- Initialize a variable `result` to 0.\n",
    "- For each number A 100 through 999:\n",
    "    - For each number B 100 through 999:\n",
    "        - Multiply A and B.\n",
    "        - Turn that product into a string (use `str` as a function).\n",
    "        - Reverse the string (use `my_string[::-1]`).\n",
    "        - If the string and its reverse are the same and the product is\n",
    "        greater than `result`,  set `result` to that new value.\n",
    "```"
   ]
  },
  {
   "cell_type": "code",
   "execution_count": 48,
   "metadata": {},
   "outputs": [
    {
     "name": "stdout",
     "output_type": "stream",
     "text": [
      "999 999 906609\n"
     ]
    }
   ],
   "source": [
    "result = 0 \n",
    "for A in range(100,1000):\n",
    "    for B in range(100,1000):\n",
    "        product = A*B\n",
    "        my_string = str(product)      \n",
    "        reverse_string = my_string[::-1]\n",
    "        if reverse_string == my_string and product > result:\n",
    "            result = product \n",
    "print (A, B, result)\n",
    "            \n",
    "   \n",
    "       \n",
    "\n",
    "            \n",
    "     \n",
    "\n",
    "        "
   ]
  },
  {
   "cell_type": "markdown",
   "metadata": {},
   "source": [
    "### Challenge 2: Summation of Primes\n",
    "The sum of the primes below 10 is 2 + 3 + 5 + 7 = 17. Find the sum of all the primes below 2,000.\n",
    "\n",
    "Suggested algorithm:\n",
    "\n",
    "```\n",
    "- Initialize an empty list of primes.\n",
    "\n",
    "- For every number A from 2 to 2,000:\n",
    "    - Set a variable `is_prime` to true.\n",
    "    - For every number B in our list of primes:\n",
    "        - If A divided by B gives no remainder, set `is_prime` to false.\n",
    "        - Optional: Use the command `break` to end the loop over primes at this point.\n",
    "    - If `is_prime` is still true, append A to our list of primes.\n",
    "    \n",
    "- Add up the primes.\n",
    "```"
   ]
  },
  {
   "cell_type": "code",
   "execution_count": 68,
   "metadata": {},
   "outputs": [
    {
     "name": "stdout",
     "output_type": "stream",
     "text": [
      "[2, 3, 5, 7, 11, 13, 17, 19, 23, 29, 31, 37, 41, 43, 47, 53, 59, 61, 67, 71, 73, 79, 83, 89, 97, 101, 103, 107, 109, 113, 127, 131, 137, 139, 149, 151, 157, 163, 167, 173, 179, 181, 191, 193, 197, 199, 211, 223, 227, 229, 233, 239, 241, 251, 257, 263, 269, 271, 277, 281, 283, 293, 307, 311, 313, 317, 331, 337, 347, 349, 353, 359, 367, 373, 379, 383, 389, 397, 401, 409, 419, 421, 431, 433, 439, 443, 449, 457, 461, 463, 467, 479, 487, 491, 499, 503, 509, 521, 523, 541, 547, 557, 563, 569, 571, 577, 587, 593, 599, 601, 607, 613, 617, 619, 631, 641, 643, 647, 653, 659, 661, 673, 677, 683, 691, 701, 709, 719, 727, 733, 739, 743, 751, 757, 761, 769, 773, 787, 797, 809, 811, 821, 823, 827, 829, 839, 853, 857, 859, 863, 877, 881, 883, 887, 907, 911, 919, 929, 937, 941, 947, 953, 967, 971, 977, 983, 991, 997, 1009, 1013, 1019, 1021, 1031, 1033, 1039, 1049, 1051, 1061, 1063, 1069, 1087, 1091, 1093, 1097, 1103, 1109, 1117, 1123, 1129, 1151, 1153, 1163, 1171, 1181, 1187, 1193, 1201, 1213, 1217, 1223, 1229, 1231, 1237, 1249, 1259, 1277, 1279, 1283, 1289, 1291, 1297, 1301, 1303, 1307, 1319, 1321, 1327, 1361, 1367, 1373, 1381, 1399, 1409, 1423, 1427, 1429, 1433, 1439, 1447, 1451, 1453, 1459, 1471, 1481, 1483, 1487, 1489, 1493, 1499, 1511, 1523, 1531, 1543, 1549, 1553, 1559, 1567, 1571, 1579, 1583, 1597, 1601, 1607, 1609, 1613, 1619, 1621, 1627, 1637, 1657, 1663, 1667, 1669, 1693, 1697, 1699, 1709, 1721, 1723, 1733, 1741, 1747, 1753, 1759, 1777, 1783, 1787, 1789, 1801, 1811, 1823, 1831, 1847, 1861, 1867, 1871, 1873, 1877, 1879, 1889, 1901, 1907, 1913, 1931, 1933, 1949, 1951, 1973, 1979, 1987, 1993, 1997, 1999]\n",
      "277050\n"
     ]
    }
   ],
   "source": [
    "empty_primes = []\n",
    "for A in range(2,2001):\n",
    "    is_prime = True\n",
    "    for B in range(2,int(A**0.5)+1):\n",
    "        if A%B == 0:\n",
    "            is_prime = False\n",
    "    if is_prime == True:\n",
    "        empty_primes.append(A)\n",
    "print (empty_primes)\n",
    "\n",
    "total = 0\n",
    "for i in empty_primes:\n",
    "    total = total+i\n",
    "print (total)\n"
   ]
  },
  {
   "cell_type": "markdown",
   "metadata": {},
   "source": [
    "### Challenge 3: Multiples of 3 and 5\n",
    "If we list all of the natural numbers below 10 that are multiples of 3 or 5, we get 3, 5, 6, and 9. The sum of these multiples is 23. Find the sum of all the multiples of 3 and 5 below 1,000."
   ]
  },
  {
   "cell_type": "code",
   "execution_count": 28,
   "metadata": {},
   "outputs": [
    {
     "name": "stdout",
     "output_type": "stream",
     "text": [
      "[3, 5, 6, 9, 10, 12, 15, 15, 18, 20, 21, 24, 25, 27, 30, 30, 33, 35, 36, 39, 40, 42, 45, 45, 48, 50, 51, 54, 55, 57, 60, 60, 63, 65, 66, 69, 70, 72, 75, 75, 78, 80, 81, 84, 85, 87, 90, 90, 93, 95, 96, 99, 100, 102, 105, 105, 108, 110, 111, 114, 115, 117, 120, 120, 123, 125, 126, 129, 130, 132, 135, 135, 138, 140, 141, 144, 145, 147, 150, 150, 153, 155, 156, 159, 160, 162, 165, 165, 168, 170, 171, 174, 175, 177, 180, 180, 183, 185, 186, 189, 190, 192, 195, 195, 198, 200, 201, 204, 205, 207, 210, 210, 213, 215, 216, 219, 220, 222, 225, 225, 228, 230, 231, 234, 235, 237, 240, 240, 243, 245, 246, 249, 250, 252, 255, 255, 258, 260, 261, 264, 265, 267, 270, 270, 273, 275, 276, 279, 280, 282, 285, 285, 288, 290, 291, 294, 295, 297, 300, 300, 303, 305, 306, 309, 310, 312, 315, 315, 318, 320, 321, 324, 325, 327, 330, 330, 333, 335, 336, 339, 340, 342, 345, 345, 348, 350, 351, 354, 355, 357, 360, 360, 363, 365, 366, 369, 370, 372, 375, 375, 378, 380, 381, 384, 385, 387, 390, 390, 393, 395, 396, 399, 400, 402, 405, 405, 408, 410, 411, 414, 415, 417, 420, 420, 423, 425, 426, 429, 430, 432, 435, 435, 438, 440, 441, 444, 445, 447, 450, 450, 453, 455, 456, 459, 460, 462, 465, 465, 468, 470, 471, 474, 475, 477, 480, 480, 483, 485, 486, 489, 490, 492, 495, 495, 498, 500, 501, 504, 505, 507, 510, 510, 513, 515, 516, 519, 520, 522, 525, 525, 528, 530, 531, 534, 535, 537, 540, 540, 543, 545, 546, 549, 550, 552, 555, 555, 558, 560, 561, 564, 565, 567, 570, 570, 573, 575, 576, 579, 580, 582, 585, 585, 588, 590, 591, 594, 595, 597, 600, 600, 603, 605, 606, 609, 610, 612, 615, 615, 618, 620, 621, 624, 625, 627, 630, 630, 633, 635, 636, 639, 640, 642, 645, 645, 648, 650, 651, 654, 655, 657, 660, 660, 663, 665, 666, 669, 670, 672, 675, 675, 678, 680, 681, 684, 685, 687, 690, 690, 693, 695, 696, 699, 700, 702, 705, 705, 708, 710, 711, 714, 715, 717, 720, 720, 723, 725, 726, 729, 730, 732, 735, 735, 738, 740, 741, 744, 745, 747, 750, 750, 753, 755, 756, 759, 760, 762, 765, 765, 768, 770, 771, 774, 775, 777, 780, 780, 783, 785, 786, 789, 790, 792, 795, 795, 798, 800, 801, 804, 805, 807, 810, 810, 813, 815, 816, 819, 820, 822, 825, 825, 828, 830, 831, 834, 835, 837, 840, 840, 843, 845, 846, 849, 850, 852, 855, 855, 858, 860, 861, 864, 865, 867, 870, 870, 873, 875, 876, 879, 880, 882, 885, 885, 888, 890, 891, 894, 895, 897, 900, 900, 903, 905, 906, 909, 910, 912, 915, 915, 918, 920, 921, 924, 925, 927, 930, 930, 933, 935, 936, 939, 940, 942, 945, 945, 948, 950, 951, 954, 955, 957, 960, 960, 963, 965, 966, 969, 970, 972, 975, 975, 978, 980, 981, 984, 985, 987, 990, 990, 993, 995, 996, 999, 1000]\n",
      "267333\n"
     ]
    }
   ],
   "source": [
    "empty_list = []\n",
    "for i in range(1,1001):\n",
    "    if i%3 == 0:\n",
    "        empty_list.append(i)\n",
    "    if i%5 == 0:\n",
    "        empty_list.append(i)              \n",
    "print (empty_list)  \n",
    "\n",
    "total = 0\n",
    "for num in empty_list:\n",
    "    total = total + num\n",
    "print (total)\n",
    "        "
   ]
  },
  {
   "cell_type": "markdown",
   "metadata": {},
   "source": [
    "### Challenge 4: String Compressor\n",
    "Write a function to perform basic string compression using the counts of repeated characters. (This is called run-length encoding.) For example, the string \"aabcccccaaa\" would become a2b1c5a3. If the “compressed” string would not become smaller than the original string, your method should return the original string. You can assume the string has only uppercase and lowercase letters (a–z). Specify whether your solution is case sensitive or case insensitive and what you would need to change to make it the other.\n",
    "\n",
    "Suggested algorithm:\n",
    "\n",
    "```\n",
    "- Initialize an empty string to hold the compressed version of the input string\n",
    "- Initialize an empty string to hold the character we are currently tallying up\n",
    "- Initialize a counter variable to 0\n",
    "\n",
    "- For each letter in the input string:\n",
    "    - If that letter matches the letter we are counting, increment the counter by 1\n",
    "    - Otherwise:\n",
    "        - If the counter value is greater than 0, add the letter we have been counting\n",
    "        and its count to our compressed string\n",
    "        - Update the letter we are counting\n",
    "        - Set the counter to 1\n",
    "\n",
    "- Append the last letter we were counting and its count to our compressed string\n",
    "```\n",
    "\n",
    "**Suggestion:** Test your function on a few sample inputs. Try to come up with \"edge cases\" that might make it fail (e.g. empty strings, strings with all the same character, strings containing non-alphabetic characters, etc.)"
   ]
  },
  {
   "cell_type": "code",
   "execution_count": 94,
   "metadata": {},
   "outputs": [
    {
     "name": "stdout",
     "output_type": "stream",
     "text": [
      "11\n",
      "a4b1c5a1\n"
     ]
    }
   ],
   "source": [
    "input_string = \"aabcccccaaa\"\n",
    "empty_string = \"\"\n",
    "Counter = 0\n",
    "print (len(input_string))\n",
    "\n",
    "\n",
    "for i in range(1,len(input_string)):\n",
    "    if input_string[i] == input_string[i-1]:\n",
    "        counter = counter + 1\n",
    "    elif counter > 1:\n",
    "            empty_string = empty_string + (input_string[i-1] + str(counter))\n",
    "            counter = 1        \n",
    "            empty_string = empty_string + (input_string[i] + str(counter))\n",
    "print (empty_string)\n",
    "   \n"
   ]
  },
  {
   "cell_type": "markdown",
   "metadata": {},
   "source": [
    "### Challenge 5: FizzBuzz\n",
    "Write a program that prints all of the numbers from 1 to 100. For multiples of 3, instead of the number, print \"Fizz;\" for multiples of 5, print \"Buzz.\" For numbers that are multiples of both 3 and 5, print \"FizzBuzz.\""
   ]
  },
  {
   "cell_type": "code",
   "execution_count": 20,
   "metadata": {},
   "outputs": [
    {
     "name": "stdout",
     "output_type": "stream",
     "text": [
      "1\n",
      "2\n",
      "3 Fizz\n",
      "4\n",
      "5 Buzz\n",
      "6 Fizz\n",
      "7\n",
      "8\n",
      "9 Fizz\n",
      "10 Buzz\n",
      "11\n",
      "12 Fizz\n",
      "13\n",
      "14\n",
      "15 FizzBUzz\n",
      "16\n",
      "17\n",
      "18 Fizz\n",
      "19\n",
      "20 Buzz\n",
      "21 Fizz\n",
      "22\n",
      "23\n",
      "24 Fizz\n",
      "25 Buzz\n",
      "26\n",
      "27 Fizz\n",
      "28\n",
      "29\n",
      "30 FizzBUzz\n",
      "31\n",
      "32\n",
      "33 Fizz\n",
      "34\n",
      "35 Buzz\n",
      "36 Fizz\n",
      "37\n",
      "38\n",
      "39 Fizz\n",
      "40 Buzz\n",
      "41\n",
      "42 Fizz\n",
      "43\n",
      "44\n",
      "45 FizzBUzz\n",
      "46\n",
      "47\n",
      "48 Fizz\n",
      "49\n",
      "50 Buzz\n",
      "51 Fizz\n",
      "52\n",
      "53\n",
      "54 Fizz\n",
      "55 Buzz\n",
      "56\n",
      "57 Fizz\n",
      "58\n",
      "59\n",
      "60 FizzBUzz\n",
      "61\n",
      "62\n",
      "63 Fizz\n",
      "64\n",
      "65 Buzz\n",
      "66 Fizz\n",
      "67\n",
      "68\n",
      "69 Fizz\n",
      "70 Buzz\n",
      "71\n",
      "72 Fizz\n",
      "73\n",
      "74\n",
      "75 FizzBUzz\n",
      "76\n",
      "77\n",
      "78 Fizz\n",
      "79\n",
      "80 Buzz\n",
      "81 Fizz\n",
      "82\n",
      "83\n",
      "84 Fizz\n",
      "85 Buzz\n",
      "86\n",
      "87 Fizz\n",
      "88\n",
      "89\n",
      "90 FizzBUzz\n",
      "91\n",
      "92\n",
      "93 Fizz\n",
      "94\n",
      "95 Buzz\n",
      "96 Fizz\n",
      "97\n",
      "98\n",
      "99 Fizz\n",
      "100 Buzz\n"
     ]
    }
   ],
   "source": [
    "for i in range(1,101):\n",
    "    if i%15 == 0:\n",
    "        print (i, \"FizzBUzz\")\n",
    "    elif i%3 == 0:\n",
    "        print (i, \"Fizz\")\n",
    "    elif i%5 == 0:\n",
    "        print (i, \"Buzz\")\n",
    "    else:\n",
    "        print (i)"
   ]
  }
 ],
 "metadata": {
  "anaconda-cloud": {},
  "kernelspec": {
   "display_name": "Python 3",
   "language": "python",
   "name": "python3"
  },
  "language_info": {
   "codemirror_mode": {
    "name": "ipython",
    "version": 3
   },
   "file_extension": ".py",
   "mimetype": "text/x-python",
   "name": "python",
   "nbconvert_exporter": "python",
   "pygments_lexer": "ipython3",
   "version": "3.7.3"
  }
 },
 "nbformat": 4,
 "nbformat_minor": 2
}

